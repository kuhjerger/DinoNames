{
 "cells": [
  {
   "cell_type": "code",
   "execution_count": 0,
   "metadata": {
    "colab": {},
    "colab_type": "code",
    "id": "AteXoGBFXP-J"
   },
   "outputs": [],
   "source": [
    "import numpy as np\n",
    "import pandas as pd\n",
    "import string\n",
    "import random\n",
    "import matplotlib.pyplot as plt\n",
    "import matplotlib.patches as mpatches\n",
    "\n",
    "import torch\n",
    "from torch.autograd import variable\n",
    "import torch.nn as nn\n",
    "import torch.nn.functional as F\n",
    "import torch.optim as optim"
   ]
  },
  {
   "cell_type": "code",
   "execution_count": 0,
   "metadata": {
    "colab": {},
    "colab_type": "code",
    "id": "8vk7UPb7a2Gy"
   },
   "outputs": [],
   "source": [
    "dinoFile = './Dinos.txt'"
   ]
  },
  {
   "cell_type": "code",
   "execution_count": 0,
   "metadata": {
    "colab": {},
    "colab_type": "code",
    "id": "KwoP00gQb2rb"
   },
   "outputs": [],
   "source": [
    "dinosDF = pd.read_csv(dinoFile, header = None, names=['Name'])"
   ]
  },
  {
   "cell_type": "code",
   "execution_count": 0,
   "metadata": {
    "colab": {},
    "colab_type": "code",
    "id": "0afdJwXacZpN"
   },
   "outputs": [],
   "source": [
    "def editDF(dataframe):\n",
    "    for index, row in dataframe.iterrows():\n",
    "        text = row[0]\n",
    "        lower = text.lower()\n",
    "        noPunc = \"\"\n",
    "        for char in lower:\n",
    "            if char not in string.punctuation:\n",
    "                noPunc += char\n",
    "        dataframe.loc[index,'data'] = noPunc\n",
    "    return dataframe"
   ]
  },
  {
   "cell_type": "code",
   "execution_count": 5,
   "metadata": {
    "colab": {
     "base_uri": "https://localhost:8080/",
     "height": 175
    },
    "colab_type": "code",
    "id": "ymsRelcgchyr",
    "outputId": "631ae4ca-5f77-4ac5-fa8d-12d9f805021e"
   },
   "outputs": [
    {
     "data": {
      "text/html": [
       "<div>\n",
       "<style scoped>\n",
       "    .dataframe tbody tr th:only-of-type {\n",
       "        vertical-align: middle;\n",
       "    }\n",
       "\n",
       "    .dataframe tbody tr th {\n",
       "        vertical-align: top;\n",
       "    }\n",
       "\n",
       "    .dataframe thead th {\n",
       "        text-align: right;\n",
       "    }\n",
       "</style>\n",
       "<table border=\"1\" class=\"dataframe\">\n",
       "  <thead>\n",
       "    <tr style=\"text-align: right;\">\n",
       "      <th></th>\n",
       "      <th>Name</th>\n",
       "    </tr>\n",
       "  </thead>\n",
       "  <tbody>\n",
       "    <tr>\n",
       "      <th>count</th>\n",
       "      <td>1325</td>\n",
       "    </tr>\n",
       "    <tr>\n",
       "      <th>unique</th>\n",
       "      <td>1318</td>\n",
       "    </tr>\n",
       "    <tr>\n",
       "      <th>top</th>\n",
       "      <td>titanosaurus</td>\n",
       "    </tr>\n",
       "    <tr>\n",
       "      <th>freq</th>\n",
       "      <td>2</td>\n",
       "    </tr>\n",
       "  </tbody>\n",
       "</table>\n",
       "</div>"
      ],
      "text/plain": [
       "                Name\n",
       "count           1325\n",
       "unique          1318\n",
       "top     titanosaurus\n",
       "freq               2"
      ]
     },
     "execution_count": 5,
     "metadata": {
      "tags": []
     },
     "output_type": "execute_result"
    }
   ],
   "source": [
    "dinosDF.describe()"
   ]
  },
  {
   "cell_type": "code",
   "execution_count": 0,
   "metadata": {
    "colab": {},
    "colab_type": "code",
    "id": "pvu43HRgcleU"
   },
   "outputs": [],
   "source": [
    "dinosDFWithStop = dinosDF.apply(lambda x: x+'#')"
   ]
  },
  {
   "cell_type": "code",
   "execution_count": 0,
   "metadata": {
    "colab": {},
    "colab_type": "code",
    "id": "z_z7ZKzTfpZe"
   },
   "outputs": [],
   "source": [
    "dinosList = dinosDFWithStop.apply(lambda x: list(x))"
   ]
  },
  {
   "cell_type": "code",
   "execution_count": 8,
   "metadata": {
    "colab": {
     "base_uri": "https://localhost:8080/",
     "height": 1992
    },
    "colab_type": "code",
    "id": "DGnvxj_edDbW",
    "outputId": "46f828dd-e264-4119-ffef-169f58d429ee"
   },
   "outputs": [
    {
     "data": {
      "text/html": [
       "<div>\n",
       "<style scoped>\n",
       "    .dataframe tbody tr th:only-of-type {\n",
       "        vertical-align: middle;\n",
       "    }\n",
       "\n",
       "    .dataframe tbody tr th {\n",
       "        vertical-align: top;\n",
       "    }\n",
       "\n",
       "    .dataframe thead th {\n",
       "        text-align: right;\n",
       "    }\n",
       "</style>\n",
       "<table border=\"1\" class=\"dataframe\">\n",
       "  <thead>\n",
       "    <tr style=\"text-align: right;\">\n",
       "      <th></th>\n",
       "      <th>Name</th>\n",
       "    </tr>\n",
       "  </thead>\n",
       "  <tbody>\n",
       "    <tr>\n",
       "      <th>0</th>\n",
       "      <td>aachenosaurus#</td>\n",
       "    </tr>\n",
       "    <tr>\n",
       "      <th>1</th>\n",
       "      <td>aardonyx#</td>\n",
       "    </tr>\n",
       "    <tr>\n",
       "      <th>2</th>\n",
       "      <td>abelisaurus#</td>\n",
       "    </tr>\n",
       "    <tr>\n",
       "      <th>3</th>\n",
       "      <td>abrictosaurus#</td>\n",
       "    </tr>\n",
       "    <tr>\n",
       "      <th>4</th>\n",
       "      <td>abrosaurus#</td>\n",
       "    </tr>\n",
       "    <tr>\n",
       "      <th>5</th>\n",
       "      <td>abydosaurus#</td>\n",
       "    </tr>\n",
       "    <tr>\n",
       "      <th>6</th>\n",
       "      <td>acanthopholis#</td>\n",
       "    </tr>\n",
       "    <tr>\n",
       "      <th>7</th>\n",
       "      <td>achelousaurus#</td>\n",
       "    </tr>\n",
       "    <tr>\n",
       "      <th>8</th>\n",
       "      <td>acheroraptor#</td>\n",
       "    </tr>\n",
       "    <tr>\n",
       "      <th>9</th>\n",
       "      <td>achillesaurus#</td>\n",
       "    </tr>\n",
       "    <tr>\n",
       "      <th>10</th>\n",
       "      <td>achillobator#</td>\n",
       "    </tr>\n",
       "    <tr>\n",
       "      <th>11</th>\n",
       "      <td>acristavus#</td>\n",
       "    </tr>\n",
       "    <tr>\n",
       "      <th>12</th>\n",
       "      <td>acrocanthosaurus#</td>\n",
       "    </tr>\n",
       "    <tr>\n",
       "      <th>13</th>\n",
       "      <td>acrotholus#</td>\n",
       "    </tr>\n",
       "    <tr>\n",
       "      <th>14</th>\n",
       "      <td>actiosaurus#</td>\n",
       "    </tr>\n",
       "    <tr>\n",
       "      <th>15</th>\n",
       "      <td>adamantisaurus#</td>\n",
       "    </tr>\n",
       "    <tr>\n",
       "      <th>16</th>\n",
       "      <td>adasaurus#</td>\n",
       "    </tr>\n",
       "    <tr>\n",
       "      <th>17</th>\n",
       "      <td>adelolophus#</td>\n",
       "    </tr>\n",
       "    <tr>\n",
       "      <th>18</th>\n",
       "      <td>adeopapposaurus#</td>\n",
       "    </tr>\n",
       "    <tr>\n",
       "      <th>19</th>\n",
       "      <td>aegyptosaurus#</td>\n",
       "    </tr>\n",
       "    <tr>\n",
       "      <th>20</th>\n",
       "      <td>aeolosaurus#</td>\n",
       "    </tr>\n",
       "    <tr>\n",
       "      <th>21</th>\n",
       "      <td>aepisaurus#</td>\n",
       "    </tr>\n",
       "    <tr>\n",
       "      <th>22</th>\n",
       "      <td>aerosteon#</td>\n",
       "    </tr>\n",
       "    <tr>\n",
       "      <th>23</th>\n",
       "      <td>aetonyx#</td>\n",
       "    </tr>\n",
       "    <tr>\n",
       "      <th>24</th>\n",
       "      <td>afrovenator#</td>\n",
       "    </tr>\n",
       "    <tr>\n",
       "      <th>25</th>\n",
       "      <td>agathaumas#</td>\n",
       "    </tr>\n",
       "    <tr>\n",
       "      <th>26</th>\n",
       "      <td>aggiosaurus#</td>\n",
       "    </tr>\n",
       "    <tr>\n",
       "      <th>27</th>\n",
       "      <td>agilisaurus#</td>\n",
       "    </tr>\n",
       "    <tr>\n",
       "      <th>28</th>\n",
       "      <td>agnosphitys#</td>\n",
       "    </tr>\n",
       "    <tr>\n",
       "      <th>29</th>\n",
       "      <td>agrosaurus#</td>\n",
       "    </tr>\n",
       "    <tr>\n",
       "      <th>...</th>\n",
       "      <td>...</td>\n",
       "    </tr>\n",
       "    <tr>\n",
       "      <th>1295</th>\n",
       "      <td>yongjinglong#</td>\n",
       "    </tr>\n",
       "    <tr>\n",
       "      <th>1296</th>\n",
       "      <td>yuanmousaurus#</td>\n",
       "    </tr>\n",
       "    <tr>\n",
       "      <th>1297</th>\n",
       "      <td>yueosaurus#</td>\n",
       "    </tr>\n",
       "    <tr>\n",
       "      <th>1298</th>\n",
       "      <td>yulong#</td>\n",
       "    </tr>\n",
       "    <tr>\n",
       "      <th>1299</th>\n",
       "      <td>yunganglong#</td>\n",
       "    </tr>\n",
       "    <tr>\n",
       "      <th>1300</th>\n",
       "      <td>yunnanosaurus#</td>\n",
       "    </tr>\n",
       "    <tr>\n",
       "      <th>1301</th>\n",
       "      <td>yurgovuchia#</td>\n",
       "    </tr>\n",
       "    <tr>\n",
       "      <th>1302</th>\n",
       "      <td>yutyrannus#</td>\n",
       "    </tr>\n",
       "    <tr>\n",
       "      <th>1303</th>\n",
       "      <td>zalmoxes#</td>\n",
       "    </tr>\n",
       "    <tr>\n",
       "      <th>1304</th>\n",
       "      <td>zanabazar#</td>\n",
       "    </tr>\n",
       "    <tr>\n",
       "      <th>1305</th>\n",
       "      <td>zanclodon#</td>\n",
       "    </tr>\n",
       "    <tr>\n",
       "      <th>1306</th>\n",
       "      <td>zapalasaurus#</td>\n",
       "    </tr>\n",
       "    <tr>\n",
       "      <th>1307</th>\n",
       "      <td>zapsalis#</td>\n",
       "    </tr>\n",
       "    <tr>\n",
       "      <th>1308</th>\n",
       "      <td>zaraapelta#</td>\n",
       "    </tr>\n",
       "    <tr>\n",
       "      <th>1309</th>\n",
       "      <td>zatomus#</td>\n",
       "    </tr>\n",
       "    <tr>\n",
       "      <th>1310</th>\n",
       "      <td>zby#</td>\n",
       "    </tr>\n",
       "    <tr>\n",
       "      <th>1311</th>\n",
       "      <td>zephyrosaurus#</td>\n",
       "    </tr>\n",
       "    <tr>\n",
       "      <th>1312</th>\n",
       "      <td>zhanghenglong#</td>\n",
       "    </tr>\n",
       "    <tr>\n",
       "      <th>1313</th>\n",
       "      <td>zhejiangosaurus#</td>\n",
       "    </tr>\n",
       "    <tr>\n",
       "      <th>1314</th>\n",
       "      <td>zhongornis#</td>\n",
       "    </tr>\n",
       "    <tr>\n",
       "      <th>1315</th>\n",
       "      <td>zhongyuansaurus#</td>\n",
       "    </tr>\n",
       "    <tr>\n",
       "      <th>1316</th>\n",
       "      <td>zhuchengceratops#</td>\n",
       "    </tr>\n",
       "    <tr>\n",
       "      <th>1317</th>\n",
       "      <td>zhuchengosaurus#</td>\n",
       "    </tr>\n",
       "    <tr>\n",
       "      <th>1318</th>\n",
       "      <td>zhuchengtyrannus#</td>\n",
       "    </tr>\n",
       "    <tr>\n",
       "      <th>1319</th>\n",
       "      <td>ziapelta#</td>\n",
       "    </tr>\n",
       "    <tr>\n",
       "      <th>1320</th>\n",
       "      <td>zigongosaurus#</td>\n",
       "    </tr>\n",
       "    <tr>\n",
       "      <th>1321</th>\n",
       "      <td>zizhongosaurus#</td>\n",
       "    </tr>\n",
       "    <tr>\n",
       "      <th>1322</th>\n",
       "      <td>zuniceratops#</td>\n",
       "    </tr>\n",
       "    <tr>\n",
       "      <th>1323</th>\n",
       "      <td>zuolong#</td>\n",
       "    </tr>\n",
       "    <tr>\n",
       "      <th>1324</th>\n",
       "      <td>zupaysaurus#</td>\n",
       "    </tr>\n",
       "  </tbody>\n",
       "</table>\n",
       "<p>1325 rows × 1 columns</p>\n",
       "</div>"
      ],
      "text/plain": [
       "                   Name\n",
       "0        aachenosaurus#\n",
       "1             aardonyx#\n",
       "2          abelisaurus#\n",
       "3        abrictosaurus#\n",
       "4           abrosaurus#\n",
       "5          abydosaurus#\n",
       "6        acanthopholis#\n",
       "7        achelousaurus#\n",
       "8         acheroraptor#\n",
       "9        achillesaurus#\n",
       "10        achillobator#\n",
       "11          acristavus#\n",
       "12    acrocanthosaurus#\n",
       "13          acrotholus#\n",
       "14         actiosaurus#\n",
       "15      adamantisaurus#\n",
       "16           adasaurus#\n",
       "17         adelolophus#\n",
       "18     adeopapposaurus#\n",
       "19       aegyptosaurus#\n",
       "20         aeolosaurus#\n",
       "21          aepisaurus#\n",
       "22           aerosteon#\n",
       "23             aetonyx#\n",
       "24         afrovenator#\n",
       "25          agathaumas#\n",
       "26         aggiosaurus#\n",
       "27         agilisaurus#\n",
       "28         agnosphitys#\n",
       "29          agrosaurus#\n",
       "...                 ...\n",
       "1295      yongjinglong#\n",
       "1296     yuanmousaurus#\n",
       "1297        yueosaurus#\n",
       "1298            yulong#\n",
       "1299       yunganglong#\n",
       "1300     yunnanosaurus#\n",
       "1301       yurgovuchia#\n",
       "1302        yutyrannus#\n",
       "1303          zalmoxes#\n",
       "1304         zanabazar#\n",
       "1305         zanclodon#\n",
       "1306      zapalasaurus#\n",
       "1307          zapsalis#\n",
       "1308        zaraapelta#\n",
       "1309           zatomus#\n",
       "1310               zby#\n",
       "1311     zephyrosaurus#\n",
       "1312     zhanghenglong#\n",
       "1313   zhejiangosaurus#\n",
       "1314        zhongornis#\n",
       "1315   zhongyuansaurus#\n",
       "1316  zhuchengceratops#\n",
       "1317   zhuchengosaurus#\n",
       "1318  zhuchengtyrannus#\n",
       "1319          ziapelta#\n",
       "1320     zigongosaurus#\n",
       "1321    zizhongosaurus#\n",
       "1322      zuniceratops#\n",
       "1323           zuolong#\n",
       "1324       zupaysaurus#\n",
       "\n",
       "[1325 rows x 1 columns]"
      ]
     },
     "execution_count": 8,
     "metadata": {
      "tags": []
     },
     "output_type": "execute_result"
    }
   ],
   "source": [
    "dinosList"
   ]
  },
  {
   "cell_type": "code",
   "execution_count": 0,
   "metadata": {
    "colab": {},
    "colab_type": "code",
    "id": "8IMRab9GfmIy"
   },
   "outputs": [],
   "source": [
    "temp = dinosList.values.tolist()"
   ]
  },
  {
   "cell_type": "code",
   "execution_count": 10,
   "metadata": {
    "colab": {
     "base_uri": "https://localhost:8080/",
     "height": 34
    },
    "colab_type": "code",
    "id": "mLQzWfYClbZr",
    "outputId": "253d1b63-baa6-4a82-ee16-be6d7873bdc9"
   },
   "outputs": [
    {
     "name": "stdout",
     "output_type": "stream",
     "text": [
      "24\n"
     ]
    }
   ],
   "source": [
    "maxNameLength = 0\n",
    "for element in temp:\n",
    "  length = len(element[0])\n",
    "  #print(length)\n",
    "  if length > maxNameLength:\n",
    "    maxNameLength = length\n",
    "print(maxNameLength)"
   ]
  },
  {
   "cell_type": "code",
   "execution_count": 0,
   "metadata": {
    "colab": {},
    "colab_type": "code",
    "id": "UVNf5RkjeCT0"
   },
   "outputs": [],
   "source": [
    "#charList = []\n",
    "#def createCharList(dataframe, charList):\n",
    "#  for index, row in dataframe.iterrows():\n",
    "#    text = row[0]\n",
    "#    for char in text:\n",
    "#      if char not in charList:\n",
    "#        charList.append(char)\n",
    "#  return charList"
   ]
  },
  {
   "cell_type": "code",
   "execution_count": 0,
   "metadata": {
    "colab": {},
    "colab_type": "code",
    "id": "KR9_EAcCfQX6"
   },
   "outputs": [],
   "source": [
    "#charList = createCharList(dinosList, charList)"
   ]
  },
  {
   "cell_type": "code",
   "execution_count": 0,
   "metadata": {
    "colab": {},
    "colab_type": "code",
    "id": "RcQ01GqhfUv5"
   },
   "outputs": [],
   "source": [
    "#charList"
   ]
  },
  {
   "cell_type": "code",
   "execution_count": 0,
   "metadata": {
    "colab": {},
    "colab_type": "code",
    "id": "F5pDqLXNib_H"
   },
   "outputs": [],
   "source": [
    "chars = [char for List in temp for name in List for char in name]"
   ]
  },
  {
   "cell_type": "code",
   "execution_count": 15,
   "metadata": {
    "colab": {
     "base_uri": "https://localhost:8080/",
     "height": 34
    },
    "colab_type": "code",
    "id": "yyWs_TmFizm3",
    "outputId": "8729fdb5-ee60-4fdc-ab61-471d40853fa9"
   },
   "outputs": [
    {
     "data": {
      "text/plain": [
       "16961"
      ]
     },
     "execution_count": 15,
     "metadata": {
      "tags": []
     },
     "output_type": "execute_result"
    }
   ],
   "source": [
    "len(chars)"
   ]
  },
  {
   "cell_type": "code",
   "execution_count": 0,
   "metadata": {
    "colab": {},
    "colab_type": "code",
    "id": "1X_ZIz6Bi0se"
   },
   "outputs": [],
   "source": [
    "uniqueChars = list(set(chars))\n",
    "numChars = len(uniqueChars)"
   ]
  },
  {
   "cell_type": "code",
   "execution_count": 0,
   "metadata": {
    "colab": {},
    "colab_type": "code",
    "id": "h7TeCdvEjZVl"
   },
   "outputs": [],
   "source": [
    "sortedUniqueChars = sorted(uniqueChars)"
   ]
  },
  {
   "cell_type": "code",
   "execution_count": 18,
   "metadata": {
    "colab": {
     "base_uri": "https://localhost:8080/",
     "height": 486
    },
    "colab_type": "code",
    "id": "iWed9m7zjose",
    "outputId": "fa8e5090-5658-40ff-d7dd-a2b8691e8c16"
   },
   "outputs": [
    {
     "data": {
      "text/plain": [
       "['#',\n",
       " 'a',\n",
       " 'b',\n",
       " 'c',\n",
       " 'd',\n",
       " 'e',\n",
       " 'f',\n",
       " 'g',\n",
       " 'h',\n",
       " 'i',\n",
       " 'j',\n",
       " 'k',\n",
       " 'l',\n",
       " 'm',\n",
       " 'n',\n",
       " 'o',\n",
       " 'p',\n",
       " 'q',\n",
       " 'r',\n",
       " 's',\n",
       " 't',\n",
       " 'u',\n",
       " 'v',\n",
       " 'w',\n",
       " 'x',\n",
       " 'y',\n",
       " 'z']"
      ]
     },
     "execution_count": 18,
     "metadata": {
      "tags": []
     },
     "output_type": "execute_result"
    }
   ],
   "source": [
    "sortedUniqueChars"
   ]
  },
  {
   "cell_type": "code",
   "execution_count": 0,
   "metadata": {
    "colab": {},
    "colab_type": "code",
    "id": "ggMq4UythILc"
   },
   "outputs": [],
   "source": [
    "def OneHotEncoder(text, sortedUniqueChars):\n",
    "  charCounter = 0\n",
    "  oheNameMatrix = np.zeros((len(text), len(sortedUniqueChars)))\n",
    "  for char in text:\n",
    "    oheCharRow = np.zeros((1, len(sortedUniqueChars)))\n",
    "    #insertIndex = np.where(sortedUniqueChars==char) #not good no work\n",
    "    insertIndex = sortedUniqueChars.index(char)\n",
    "    oheCharRow[0,insertIndex] = 1\n",
    "    oheNameMatrix[charCounter,:] = oheCharRow\n",
    "    charCounter += 1\n",
    "  return oheNameMatrix"
   ]
  },
  {
   "cell_type": "code",
   "execution_count": 0,
   "metadata": {
    "colab": {},
    "colab_type": "code",
    "id": "X6YWQ_v-qq96"
   },
   "outputs": [],
   "source": [
    "oheNames = []\n",
    "for name in temp:\n",
    "  text = name[0]\n",
    "  oheNames.append(OneHotEncoder(text, sortedUniqueChars))\n",
    "#for name in temp:\n",
    "#  text = name[0]\n",
    "#  charCounter = 0\n",
    "#  oheNameMatrix = np.zeros((len(text), len(sortedUniqueChars)))\n",
    "#  for char in text:\n",
    "#    oheCharRow = np.zeros((1, len(sortedUniqueChars)))\n",
    "#    insertIndex = np.where(sortedUniqueChars==char)\n",
    "#    oheCharRow[insertIndex[0]] = 1\n",
    "#    oheNameMatrix[charCounter,:] = oheCharRow\n",
    "#    charCounter += 1\n",
    "#  oheNames.append(oheNameMatrix)"
   ]
  },
  {
   "cell_type": "code",
   "execution_count": 0,
   "metadata": {
    "colab": {},
    "colab_type": "code",
    "id": "mYMUuGsAigHe"
   },
   "outputs": [],
   "source": [
    "#oheNames\n",
    "#for name in oheNames:\n",
    "#  print(name.shape)"
   ]
  },
  {
   "cell_type": "code",
   "execution_count": 0,
   "metadata": {
    "colab": {},
    "colab_type": "code",
    "id": "HnlFJZnSixPk"
   },
   "outputs": [],
   "source": [
    "#sortedUniqueChars"
   ]
  },
  {
   "cell_type": "code",
   "execution_count": 23,
   "metadata": {
    "colab": {
     "base_uri": "https://localhost:8080/",
     "height": 106
    },
    "colab_type": "code",
    "id": "7s5IjWMskQTs",
    "outputId": "0d5a4860-9a38-4ac0-dd61-983f4c747bed"
   },
   "outputs": [
    {
     "name": "stderr",
     "output_type": "stream",
     "text": [
      "/usr/local/lib/python3.6/dist-packages/torch/autograd/__init__.py:167: UserWarning: torch.autograd.variable(...) is deprecated, use torch.tensor(...) instead\n",
      "  warnings.warn(\"torch.autograd.variable(...) is deprecated, use torch.tensor(...) instead\")\n",
      "/usr/local/lib/python3.6/dist-packages/torch/autograd/__init__.py:168: UserWarning: To copy construct from a tensor, it is recommended to use sourceTensor.clone().detach() or sourceTensor.clone().detach().requires_grad_(True), rather than torch.tensor(sourceTensor).\n",
      "  return torch.tensor(*args, **kwargs)\n"
     ]
    }
   ],
   "source": [
    "w1 = variable(torch.FloatTensor(np.random.randn(numChars+numChars, numChars)), requires_grad = True)\n",
    "b1 = variable(torch.FloatTensor(np.random.randn(1,numChars)), requires_grad = True)\n",
    "w2 = variable(torch.FloatTensor(np.random.randn(numChars, numChars)), requires_grad = True)\n",
    "b2 = variable(torch.FloatTensor(np.random.randn(1,numChars)), requires_grad = True)\n",
    "w3 = variable(torch.FloatTensor(np.random.randn(numChars, numChars)), requires_grad = True)\n",
    "b3 = variable(torch.FloatTensor(np.random.randn(1,numChars)), requires_grad = True)"
   ]
  },
  {
   "cell_type": "code",
   "execution_count": 0,
   "metadata": {
    "colab": {},
    "colab_type": "code",
    "id": "FzSPm3Xll0yn"
   },
   "outputs": [],
   "source": [
    "def cycle(hidden, inputs):\n",
    "  h_t = torch.tanh(torch.mm(torch.cat([inputs,hidden], dim = 1), w1)+b1)\n",
    "  out = torch.mm(torch.tanh(torch.mm(h_t,w2)+b2),w3)+b3\n",
    "  return h_t, out\n",
    "\n",
    "def forward(x, init = None):\n",
    "  lenSeq = x.size(0)\n",
    "  hiddens = []\n",
    "  outs = []\n",
    "  \n",
    "  if init == None:\n",
    "    h_t = torch.zeros(1, x.size(1))\n",
    "  else:\n",
    "    h_t = init\n",
    "  \n",
    "  for i in range(lenSeq):\n",
    "    h_t, out = cycle(h_t, x[[i]])\n",
    "    hiddens.append(h_t)\n",
    "    outs.append(out)\n",
    "  \n",
    "  hiddenSeq = torch.cat(hiddens)\n",
    "  outSeq = torch.cat(outs)\n",
    "  return hiddenSeq, outSeq"
   ]
  },
  {
   "cell_type": "code",
   "execution_count": 0,
   "metadata": {
    "colab": {},
    "colab_type": "code",
    "id": "HgJUAEfO25_E"
   },
   "outputs": [],
   "source": [
    "optimizer = torch.optim.Adam([w1,w2,w3,b1,b2,b3], lr = .001)\n",
    "\n",
    "def backward(outputSequence, trueLabels):\n",
    "  _, targets = trueLabels.max(dim=1)\n",
    "  loss = torch.nn.CrossEntropyLoss()(outputSequence, targets)\n",
    "  loss.backward()\n",
    "  optimizer.step()\n",
    "  optimizer.zero_grad()\n",
    "  return loss"
   ]
  },
  {
   "cell_type": "code",
   "execution_count": 32,
   "metadata": {
    "colab": {
     "base_uri": "https://localhost:8080/",
     "height": 1754
    },
    "colab_type": "code",
    "id": "oT2lQKWQptrU",
    "outputId": "00266403-e3ad-4fee-ef2e-9b3f2fd2506e"
   },
   "outputs": [
    {
     "name": "stdout",
     "output_type": "stream",
     "text": [
      "Epochs: 200/20000\n",
      "Epochs: 400/20000\n",
      "Epochs: 600/20000\n",
      "Epochs: 800/20000\n",
      "Epochs: 1000/20000\n",
      "Epochs: 1200/20000\n",
      "Epochs: 1400/20000\n",
      "Epochs: 1600/20000\n",
      "Epochs: 1800/20000\n",
      "Epochs: 2000/20000\n",
      "Epochs: 2200/20000\n",
      "Epochs: 2400/20000\n",
      "Epochs: 2600/20000\n",
      "Epochs: 2800/20000\n",
      "Epochs: 3000/20000\n",
      "Epochs: 3200/20000\n",
      "Epochs: 3400/20000\n",
      "Epochs: 3600/20000\n",
      "Epochs: 3800/20000\n",
      "Epochs: 4000/20000\n",
      "Epochs: 4200/20000\n",
      "Epochs: 4400/20000\n",
      "Epochs: 4600/20000\n",
      "Epochs: 4800/20000\n",
      "Epochs: 5000/20000\n",
      "Epochs: 5200/20000\n",
      "Epochs: 5400/20000\n",
      "Epochs: 5600/20000\n",
      "Epochs: 5800/20000\n",
      "Epochs: 6000/20000\n",
      "Epochs: 6200/20000\n",
      "Epochs: 6400/20000\n",
      "Epochs: 6600/20000\n",
      "Epochs: 6800/20000\n",
      "Epochs: 7000/20000\n",
      "Epochs: 7200/20000\n",
      "Epochs: 7400/20000\n",
      "Epochs: 7600/20000\n",
      "Epochs: 7800/20000\n",
      "Epochs: 8000/20000\n",
      "Epochs: 8200/20000\n",
      "Epochs: 8400/20000\n",
      "Epochs: 8600/20000\n",
      "Epochs: 8800/20000\n",
      "Epochs: 9000/20000\n",
      "Epochs: 9200/20000\n",
      "Epochs: 9400/20000\n",
      "Epochs: 9600/20000\n",
      "Epochs: 9800/20000\n",
      "Epochs: 10000/20000\n",
      "Epochs: 10200/20000\n",
      "Epochs: 10400/20000\n",
      "Epochs: 10600/20000\n",
      "Epochs: 10800/20000\n",
      "Epochs: 11000/20000\n",
      "Epochs: 11200/20000\n",
      "Epochs: 11400/20000\n",
      "Epochs: 11600/20000\n",
      "Epochs: 11800/20000\n",
      "Epochs: 12000/20000\n",
      "Epochs: 12200/20000\n",
      "Epochs: 12400/20000\n",
      "Epochs: 12600/20000\n",
      "Epochs: 12800/20000\n",
      "Epochs: 13000/20000\n",
      "Epochs: 13200/20000\n",
      "Epochs: 13400/20000\n",
      "Epochs: 13600/20000\n",
      "Epochs: 13800/20000\n",
      "Epochs: 14000/20000\n",
      "Epochs: 14200/20000\n",
      "Epochs: 14400/20000\n",
      "Epochs: 14600/20000\n",
      "Epochs: 14800/20000\n",
      "Epochs: 15000/20000\n",
      "Epochs: 15200/20000\n",
      "Epochs: 15400/20000\n",
      "Epochs: 15600/20000\n",
      "Epochs: 15800/20000\n",
      "Epochs: 16000/20000\n",
      "Epochs: 16200/20000\n",
      "Epochs: 16400/20000\n",
      "Epochs: 16600/20000\n",
      "Epochs: 16800/20000\n",
      "Epochs: 17000/20000\n",
      "Epochs: 17200/20000\n",
      "Epochs: 17400/20000\n",
      "Epochs: 17600/20000\n",
      "Epochs: 17800/20000\n",
      "Epochs: 18000/20000\n",
      "Epochs: 18200/20000\n",
      "Epochs: 18400/20000\n",
      "Epochs: 18600/20000\n",
      "Epochs: 18800/20000\n",
      "Epochs: 19000/20000\n",
      "Epochs: 19200/20000\n",
      "Epochs: 19400/20000\n",
      "Epochs: 19600/20000\n",
      "Epochs: 19800/20000\n",
      "Epochs: 20000/20000\n"
     ]
    }
   ],
   "source": [
    "epochs = 20000\n",
    "losses = []\n",
    "for i in range(epochs):\n",
    "  sample = random.choice(oheNames).tolist()\n",
    "  x = torch.FloatTensor(sample)\n",
    "  hid, out = forward(x[0:-1])\n",
    "  lossVal = backward(out, x[1:])\n",
    "  losses.append(lossVal)\n",
    "  if (i+1)%(epochs/100) == 0:\n",
    "    print('Epochs: {}/{}'.format(i+1, epochs))"
   ]
  },
  {
   "cell_type": "code",
   "execution_count": 33,
   "metadata": {
    "colab": {
     "base_uri": "https://localhost:8080/",
     "height": 364
    },
    "colab_type": "code",
    "id": "wHhFzXUJ8bZU",
    "outputId": "e476f011-3ff0-4339-f9ca-6cc5a2c3613b"
   },
   "outputs": [
    {
     "data": {
      "text/plain": [
       "[<matplotlib.lines.Line2D at 0x7f153d676518>]"
      ]
     },
     "execution_count": 33,
     "metadata": {
      "tags": []
     },
     "output_type": "execute_result"
    },
    {
     "data": {
      "image/png": "[encoded data removed]",
      "text/plain": [
       "<Figure size 576x396 with 1 Axes>"
      ]
     },
     "metadata": {
      "tags": []
     },
     "output_type": "display_data"
    }
   ],
   "source": [
    "plt.plot(losses)"
   ]
  },
  {
   "cell_type": "code",
   "execution_count": 0,
   "metadata": {
    "colab": {},
    "colab_type": "code",
    "id": "-bDeioewvFF-"
   },
   "outputs": [],
   "source": [
    "def generate(startLetter=None, sillyFactor=.01, maxNameLength = 24):\n",
    "  if startLetter == None:\n",
    "    startLetter = random.choice(sortedUniqueChars)\n",
    "  if startLetter == '#':\n",
    "    return None\n",
    "  #print(type(startLetter))\n",
    "  generated = [startLetter]\n",
    "  start = torch.FloatTensor(OneHotEncoder(startLetter, sortedUniqueChars))\n",
    "\n",
    "  h_t = torch.randn(1,numChars)*sillyFactor\n",
    "  h_t,out = cycle(h_t,start)\n",
    "  out = torch.softmax(out,dim=1)\n",
    "  _, pos = out.max(dim=1)\n",
    "  out = torch.zeros(1,numChars)\n",
    "  out[:,pos]=1\n",
    "  if sortedUniqueChars[int(pos)] == '#':\n",
    "      return None\n",
    "  generated.append(sortedUniqueChars[int(pos)])\n",
    "  for i in range(maxNameLength):\n",
    "      h_t,out = cycle(h_t,out)\n",
    "      _, pos = out.max(dim=1)\n",
    "      out = torch.zeros(1,numChars)\n",
    "      out[:,pos]=1\n",
    "      if sortedUniqueChars[int(pos)] == '#':\n",
    "          break\n",
    "      generated.append(sortedUniqueChars[int(pos)])\n",
    "  return ''.join(generated)"
   ]
  },
  {
   "cell_type": "code",
   "execution_count": 37,
   "metadata": {
    "colab": {
     "base_uri": "https://localhost:8080/",
     "height": 2796
    },
    "colab_type": "code",
    "id": "7ZSzde6QelAZ",
    "outputId": "c99a3805-81b6-47a0-925b-c5af9483047c"
   },
   "outputs": [
    {
     "name": "stdout",
     "output_type": "stream",
     "text": [
      "No silliness allowed, should call a pretrained 'a' word\n",
      "arcisosaurus\n",
      "We want an 'a' dinosaur with barely any silliness\n",
      "arcisasaurus\n",
      "Give me something with no input... well default silliness factor is =.01\n",
      "gusasaurus\n",
      "Go bat shit crazy.  Only input is sillyFactor = .8\n",
      "xqmxorusisasaurus\n",
      "No silliness allowed, should call a pretrained 'a' word\n",
      "arcisosaurus\n",
      "We want an 'a' dinosaur with barely any silliness\n",
      "alaosaurus\n",
      "Give me something with no input... well default silliness factor is =.01\n",
      "zroosaurus\n",
      "Go bat shit crazy.  Only input is sillyFactor = .8\n",
      "tiaaaosaurus\n",
      "No silliness allowed, should call a pretrained 'a' word\n",
      "arcisosaurus\n",
      "We want an 'a' dinosaur with barely any silliness\n",
      "arceosaurus\n",
      "Give me something with no input... well default silliness factor is =.01\n",
      "None\n",
      "Go bat shit crazy.  Only input is sillyFactor = .8\n",
      "iqbqqqbqqqqcqqqqqqqqqqqqqq\n",
      "No silliness allowed, should call a pretrained 'a' word\n",
      "arcisosaurus\n",
      "We want an 'a' dinosaur with barely any silliness\n",
      "ananosaurus\n",
      "Give me something with no input... well default silliness factor is =.01\n",
      "None\n",
      "Go bat shit crazy.  Only input is sillyFactor = .8\n",
      "ylluosaurus\n",
      "No silliness allowed, should call a pretrained 'a' word\n",
      "arcisosaurus\n",
      "We want an 'a' dinosaur with barely any silliness\n",
      "alaosaurus\n",
      "Give me something with no input... well default silliness factor is =.01\n",
      "ranasaurus\n",
      "Go bat shit crazy.  Only input is sillyFactor = .8\n",
      "gtcllosaurus\n",
      "No silliness allowed, should call a pretrained 'a' word\n",
      "arcisosaurus\n",
      "We want an 'a' dinosaur with barely any silliness\n",
      "alaosaurus\n",
      "Give me something with no input... well default silliness factor is =.01\n",
      "manosaurus\n",
      "Go bat shit crazy.  Only input is sillyFactor = .8\n",
      "ileonosaurus\n",
      "No silliness allowed, should call a pretrained 'a' word\n",
      "arcisosaurus\n",
      "We want an 'a' dinosaur with barely any silliness\n",
      "arcisosaurus\n",
      "Give me something with no input... well default silliness factor is =.01\n",
      "gusasaurus\n",
      "Go bat shit crazy.  Only input is sillyFactor = .8\n",
      "owplosaurus\n",
      "No silliness allowed, should call a pretrained 'a' word\n",
      "arcisosaurus\n",
      "We want an 'a' dinosaur with barely any silliness\n",
      "ananosaurus\n",
      "Give me something with no input... well default silliness factor is =.01\n",
      "yanaosaurus\n",
      "Go bat shit crazy.  Only input is sillyFactor = .8\n",
      "xtornosaurus\n",
      "No silliness allowed, should call a pretrained 'a' word\n",
      "arcisosaurus\n",
      "We want an 'a' dinosaur with barely any silliness\n",
      "ananosaurus\n",
      "Give me something with no input... well default silliness factor is =.01\n",
      "yanosaurus\n",
      "Go bat shit crazy.  Only input is sillyFactor = .8\n",
      "jeuinaosaurus\n",
      "No silliness allowed, should call a pretrained 'a' word\n",
      "arcisosaurus\n",
      "We want an 'a' dinosaur with barely any silliness\n",
      "anaosaurus\n",
      "Give me something with no input... well default silliness factor is =.01\n",
      "gusasaurus\n",
      "Go bat shit crazy.  Only input is sillyFactor = .8\n",
      "lemyanosaurus\n",
      "No silliness allowed, should call a pretrained 'a' word\n",
      "arcisosaurus\n",
      "We want an 'a' dinosaur with barely any silliness\n",
      "anaosaurus\n",
      "Give me something with no input... well default silliness factor is =.01\n",
      "ananosaurus\n",
      "Go bat shit crazy.  Only input is sillyFactor = .8\n",
      "qonosaurus\n",
      "No silliness allowed, should call a pretrained 'a' word\n",
      "arcisosaurus\n",
      "We want an 'a' dinosaur with barely any silliness\n",
      "arsisaaosaurus\n",
      "Give me something with no input... well default silliness factor is =.01\n",
      "saurosaurus\n",
      "Go bat shit crazy.  Only input is sillyFactor = .8\n",
      "tbru\n",
      "No silliness allowed, should call a pretrained 'a' word\n",
      "arcisosaurus\n",
      "We want an 'a' dinosaur with barely any silliness\n",
      "araoosaurus\n",
      "Give me something with no input... well default silliness factor is =.01\n",
      "urinosaurus\n",
      "Go bat shit crazy.  Only input is sillyFactor = .8\n",
      "zirsoroosaurus\n",
      "No silliness allowed, should call a pretrained 'a' word\n",
      "arcisosaurus\n",
      "We want an 'a' dinosaur with barely any silliness\n",
      "alaosaurus\n",
      "Give me something with no input... well default silliness factor is =.01\n",
      "eurooosaurus\n",
      "Go bat shit crazy.  Only input is sillyFactor = .8\n",
      "mc\n",
      "No silliness allowed, should call a pretrained 'a' word\n",
      "arcisosaurus\n",
      "We want an 'a' dinosaur with barely any silliness\n",
      "ananosaurus\n",
      "Give me something with no input... well default silliness factor is =.01\n",
      "lanosaurus\n",
      "Go bat shit crazy.  Only input is sillyFactor = .8\n",
      "znoeaaosaurus\n",
      "No silliness allowed, should call a pretrained 'a' word\n",
      "arcisosaurus\n",
      "We want an 'a' dinosaur with barely any silliness\n",
      "alaosaurus\n",
      "Give me something with no input... well default silliness factor is =.01\n",
      "manosaurus\n",
      "Go bat shit crazy.  Only input is sillyFactor = .8\n",
      "hynaosaurus\n",
      "No silliness allowed, should call a pretrained 'a' word\n",
      "arcisosaurus\n",
      "We want an 'a' dinosaur with barely any silliness\n",
      "arcisosaurus\n",
      "Give me something with no input... well default silliness factor is =.01\n",
      "eoraaosaurus\n",
      "Go bat shit crazy.  Only input is sillyFactor = .8\n",
      "sus\n",
      "No silliness allowed, should call a pretrained 'a' word\n",
      "arcisosaurus\n",
      "We want an 'a' dinosaur with barely any silliness\n",
      "arcisasaurus\n",
      "Give me something with no input... well default silliness factor is =.01\n",
      "eoraosaurus\n",
      "Go bat shit crazy.  Only input is sillyFactor = .8\n",
      "fclsauauaurus\n",
      "No silliness allowed, should call a pretrained 'a' word\n",
      "arcisosaurus\n",
      "We want an 'a' dinosaur with barely any silliness\n",
      "arcisosaurus\n",
      "Give me something with no input... well default silliness factor is =.01\n",
      "ieusaosaurus\n",
      "Go bat shit crazy.  Only input is sillyFactor = .8\n",
      "cansaurus\n",
      "No silliness allowed, should call a pretrained 'a' word\n",
      "arcisosaurus\n",
      "We want an 'a' dinosaur with barely any silliness\n",
      "arcisosaurus\n",
      "Give me something with no input... well default silliness factor is =.01\n",
      "eoraosaurus\n",
      "Go bat shit crazy.  Only input is sillyFactor = .8\n",
      "foranosaurus\n"
     ]
    }
   ],
   "source": [
    "for i in range(20):\n",
    "  print(\"No silliness allowed, should call a pretrained \\'a\\' word\")\n",
    "  print(generate('a', 0))\n",
    "  print(\"We want an \\'a\\' dinosaur with barely any silliness\")\n",
    "  print(generate('a', .01))\n",
    "  print(\"Give me something with no input... well default silliness factor is =.01\")\n",
    "  print(generate())\n",
    "  print(\"Go bat shit crazy.  Only input is sillyFactor = .8\")\n",
    "  print(generate(sillyFactor = .8))"
   ]
  },
  {
   "cell_type": "code",
   "execution_count": 0,
   "metadata": {
    "colab": {},
    "colab_type": "code",
    "id": "T_Zb9mncepcM"
   },
   "outputs": [],
   "source": []
  }
 ],
 "metadata": {
  "colab": {
   "collapsed_sections": [],
   "name": "040319RNNDinoNameLearn.ipynb",
   "provenance": [],
   "version": "0.3.2"
  },
  "kernelspec": {
   "display_name": "Python 3",
   "language": "python",
   "name": "python3"
  },
  "language_info": {
   "codemirror_mode": {
    "name": "ipython",
    "version": 3
   },
   "file_extension": ".py",
   "mimetype": "text/x-python",
   "name": "python",
   "nbconvert_exporter": "python",
   "pygments_lexer": "ipython3",
   "version": "3.7.2"
  }
 },
 "nbformat": 4,
 "nbformat_minor": 1
}
